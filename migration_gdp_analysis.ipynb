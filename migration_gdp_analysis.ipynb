{
 "cells": [
  {
   "cell_type": "code",
   "execution_count": null,
   "id": "364b7845",
   "metadata": {},
   "outputs": [],
   "source": [
    "\n",
    "import pandas as pd\n",
    "\n",
    "# Load the two datasets\n",
    "gdp_data = pd.read_csv('API_NY.GDP.MKTP.CD_DS2_en_csv_v2_2.csv', skiprows=4)\n",
    "migration_data = pd.read_csv('API_SM.POP.NETM_DS2_en_csv_v2_33.csv', skiprows=4)\n",
    "\n",
    "# Clean and reshape the datasets\n",
    "\n",
    "# Keep relevant columns (Country Code, Country Name, and yearly data)\n",
    "gdp_data_clean = gdp_data.drop(columns=[\"Indicator Name\", \"Indicator Code\", \"Unnamed: 68\"])\n",
    "migration_data_clean = migration_data.drop(columns=[\"Indicator Name\", \"Indicator Code\", \"Unnamed: 68\"])\n",
    "\n",
    "# Melt datasets to have 'Year' as a column\n",
    "gdp_melted = gdp_data_clean.melt(id_vars=[\"Country Name\", \"Country Code\"], \n",
    "                                 var_name=\"Year\", value_name=\"GDP\")\n",
    "migration_melted = migration_data_clean.melt(id_vars=[\"Country Name\", \"Country Code\"], \n",
    "                                             var_name=\"Year\", value_name=\"Net Migration\")\n",
    "\n",
    "# Merge datasets on Country Code, Country Name, and Year\n",
    "merged_data = pd.merge(gdp_melted, migration_melted, \n",
    "                       on=[\"Country Name\", \"Country Code\", \"Year\"], \n",
    "                       how=\"inner\")\n",
    "\n",
    "# Convert Year to numeric for proper analysis\n",
    "merged_data[\"Year\"] = pd.to_numeric(merged_data[\"Year\"], errors=\"coerce\")\n",
    "\n",
    "# Drop rows with NaN values (in GDP or Net Migration)\n",
    "merged_data = merged_data.dropna(subset=[\"GDP\", \"Net Migration\"])\n",
    "\n",
    "# Save the merged data to a file for further analysis\n",
    "merged_data.to_csv(\"merged_gdp_migration_data.csv\", index=False)\n",
    "\n",
    "# Calculate correlation for each country\n",
    "country_correlations = merged_data.groupby(\"Country Name\").apply(\n",
    "    lambda group: group[\"GDP\"].corr(group[\"Net Migration\"])\n",
    ").reset_index()\n",
    "\n",
    "# Rename columns for clarity\n",
    "country_correlations.columns = [\"Country Name\", \"Correlation (GDP vs. Net Migration)\"]\n",
    "\n",
    "# Save the correlation results to a file\n",
    "country_correlations.to_csv(\"country_correlations.csv\", index=False)\n",
    "\n",
    "# Display final message\n",
    "print(\"Processing complete! Results saved as 'merged_gdp_migration_data.csv' and 'country_correlations.csv'.\")\n"
   ]
  }
 ],
 "metadata": {
  "language_info": {
   "name": "python"
  }
 },
 "nbformat": 4,
 "nbformat_minor": 5
}
